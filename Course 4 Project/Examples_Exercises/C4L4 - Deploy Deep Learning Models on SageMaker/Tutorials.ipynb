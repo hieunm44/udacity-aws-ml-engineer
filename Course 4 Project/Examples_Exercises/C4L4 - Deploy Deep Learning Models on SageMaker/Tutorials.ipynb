{
 "cells": [
  {
   "metadata": {},
   "cell_type": "markdown",
   "source": "# Deploy Deep Learning Models on SageMaker",
   "id": "98ac85c0b48ac8b3"
  },
  {
   "metadata": {},
   "cell_type": "markdown",
   "source": [
    "## 1. JumpStart and Images\n",
    "1. Vào **SageMaker Studio** -> **JumpStart** -> Tìm model `ResNet18`.\n",
    "\n",
    "    <img src=\"images/aws1.png\" width=1500>\n",
    "\n",
    "2. Ấn **Train**. Trong **Hyperparameters**, đặt **Epochs** là `2`, **Batch size** là `64`, còn lại để nguyên -> **Submit**\n",
    "\n",
    "    <img src=\"images/aws2.png\" width=1500>\n",
    "\n",
    "    Vào **Training jobs** để kiểm tra. Sau khi train xong có thể ấn vào training job đó và ấn **Deploy** để tạo Endpoints. Sau đó  vào **Enpoints** để kiểm tra.\n",
    "\n",
    "## 2. JumpStart and Text\n",
    "\n",
    "Trong JumpStart, tìm model BERT Base Uncased. Làm y hệt các bước ở trên,\n",
    "\n",
    "## 3. Script Mode in SageMaker\n",
    "Trong SageMaker Studio, mở JupyterLab, chạy `1_script_mode.ipynb`\n",
    "\n",
    "## 4. SageMaker Debugger\n",
    "Up lên JupyerLab chạy: `3_model_debugging_example`\n",
    "\n",
    "## 5. SageMaker Profiler\n",
    "Up lên JupyterLab chạy: `4_model_profiler_example`\n",
    "\n",
    "## 6. Hyperparameter Tuning in SageMaker\n",
    "Up lên JupyterLab chạy: `6_hyperparameter_tuning_example` \\\n",
    "Vào **Hyperparameter tuning jobs** để kiểm tra.\n",
    "\n",
    "## 7. Deployment\n",
    "Up lên JupyterLab chạy: `7_model_deployment_example`"
   ],
   "id": "c80beb3daceab94c"
  }
 ],
 "metadata": {
  "kernelspec": {
   "display_name": "Python 3",
   "language": "python",
   "name": "python3"
  },
  "language_info": {
   "codemirror_mode": {
    "name": "ipython",
    "version": 2
   },
   "file_extension": ".py",
   "mimetype": "text/x-python",
   "name": "python",
   "nbconvert_exporter": "python",
   "pygments_lexer": "ipython2",
   "version": "2.7.6"
  }
 },
 "nbformat": 4,
 "nbformat_minor": 5
}
