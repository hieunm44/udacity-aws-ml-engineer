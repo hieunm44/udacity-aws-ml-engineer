{
 "cells": [
  {
   "metadata": {},
   "cell_type": "markdown",
   "source": "# High Throughput & Low Latency Models",
   "id": "49f83f626b9519c2"
  },
  {
   "metadata": {},
   "cell_type": "markdown",
   "source": [
    "## Exercise 1: Lambda Functions\n",
    "1. Vào **Lambda** -> **Functions** -> **Create function**. Chọn **Runtime** là `Python`.\n",
    "2. Viết code là:\n",
    "   ```python\n",
    "   import json\n",
    "\n",
    "   def lambda_handler(event, context):\n",
    "       theevent = float(event)\n",
    "       return {\n",
    "           'statusCode': 200,\n",
    "           'body': json.dumps('Your number plus one is: ' + str(theevent + 1))\n",
    "       }\n",
    "   ```\n",
    "3. Test -> Create test event -> Nhập 1 số bất kì, VD `11` -> **Save** -> **Test**\n",
    "\n",
    "   <img src=\"images/aws1.png\" width=500>\n",
    "\n",
    "   Sẽ thấy output là `12`."
   ],
   "id": "23d65842a7c1188a"
  },
  {
   "metadata": {},
   "cell_type": "markdown",
   "source": [
    "## Exercise 2: Autoscaling\n",
    "1. Vào **SageMaker Studio** -> **JupyterLab** -> Up file `ex2_Simple_Endpoint.ipynb` lên rồi chạy, sẽ deploy 1 Endpoint.\n",
    "\n",
    "2. Trong SageMaker, vào **Inference** -> **Endpoints** -> Vào endpoint vừa deploy. \\\n",
    "   Trong **Endpoint runtime settings**, chọn variant -> **Configure auto scaling** \\\n",
    "   Đặt **Maximum instance count** là `3`, **Scale in cool down** là `30`, **Scale out cool down** là `30`. \\\n",
    "   Đặt **Tartget value** là `30`, nghĩa là nếu nhận đc (gần như) cùng lúc 30 invocations of endpoint for every instance thì sẽ tạo 1 new instance.\n",
    "   Ấn **Save**.\n",
    "\n",
    "3. Giờ test autoscaling. Quay lại file notebook, thêm code sau rồi chạy:\n",
    "   ```python\n",
    "   n = 0\n",
    "   while n < 400:\n",
    "       print(predictor.predict(testX[data.feature_names]))\n",
    "       n = n + 1\n",
    "   ```\n",
    "   Ở đây ta thực hiện 400 invocations of endpoint gần như cùng lúc.\n",
    "\n",
    "4. Quay lại bên trong endpoint. Trong **Monitor**, ta thấy CPUUtilization, MemoryUtilization, DiskUtilization vẫn chưa ở mức tối đa, nghĩa là Autoscaling là more than sufficient."
   ],
   "id": "a0efbd1d658f7589"
  },
  {
   "metadata": {},
   "cell_type": "markdown",
   "source": [
    "## Exercise 3: Concurrency\n",
    "1. Vào **Lambda** -> **Functions** -> Vào function đã tạo ở Ex1.\n",
    "2. Vào **Configuration** -> **Concurrency and Recursion detection**. Trong **Concurrency**, ấn **Edit**.\n",
    "\n",
    "   <img src=\"images/aws2.png\" width=1000>\n",
    "\n",
    "3. Chọn **Reserve concurrency**, đặt là `5`, quan sát **Unreserved account concurrency** thay đổi -> **Save** \\\n",
    "   (Nếu **Unreserved account concurrency** bị giới hạn là 10 thì vào **Service Quotas** -> **AWS services** -> **AWS Lambda**. \\\n",
    "    Chọn **Concurrent execution** -> **Request increase at account level**. Đặt **Increase quota value** là `1000` -> **Request**)\n",
    "\n",
    "   <img src=\"images/aws3.png\" width=1200>\n",
    "\n",
    "4. Vào **Versions** -> **Publish new version** -> **Publish**\n",
    "\n",
    "   <img src=\"images/aws4.png\" width=1200>\n",
    "\n",
    "5. Quay lại **Concurrency** -> **Provisioned concurrency configurations** -> **Add configuration** \\\n",
    "   Chọn **Qualifier type** là `Version` -> Chọn version vừa publish. \\\n",
    "   Ở **ProQuvisioned concurrency**, ta thấy \"5 available\" chính là Reserve concurrency đã set. Ấn mũi tên tăng lên `3` -> **Save**\n",
    "\n",
    "   <img src=\"images/aws5.png\" width=1500>\n",
    "\n",
    "6. Test lại Lambda function -> Xem output, chú ý phần **Billed Duration**."
   ],
   "id": "c37ddcdf9e347094"
  }
 ],
 "metadata": {
  "kernelspec": {
   "display_name": "Python 3",
   "language": "python",
   "name": "python3"
  },
  "language_info": {
   "codemirror_mode": {
    "name": "ipython",
    "version": 2
   },
   "file_extension": ".py",
   "mimetype": "text/x-python",
   "name": "python",
   "nbconvert_exporter": "python",
   "pygments_lexer": "ipython2",
   "version": "2.7.6"
  }
 },
 "nbformat": 4,
 "nbformat_minor": 5
}
