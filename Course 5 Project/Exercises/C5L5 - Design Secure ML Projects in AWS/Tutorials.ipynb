{
 "cells": [
  {
   "metadata": {},
   "cell_type": "markdown",
   "source": "# Secure ML Projects",
   "id": "2fab93a619730c8d"
  },
  {
   "metadata": {},
   "cell_type": "markdown",
   "source": [
    "## Exercise 1: Resolve an IAM Security Sole Issue\n",
    "1. Vào **SageMaker Studio** -> **JupyterLab** -> Up file `train_and_deploy.ipynb` lên rồi chạy, sẽ deploy 1 Endpoint. \\\n",
    "   Vào **Inference** -> **Endpoints** -> Lưu lại tên endpoint vừa deploy. \\\n",
    "\n",
    "2. Vào **Lambda** -> **Functions** -> **Create function** \\\n",
    "   Copy code từ file `lambdafunction.py` vào, thay `endpoint_Name` bằng tên endpoint ở trên.\n",
    "   Ấn **Test** -> **Create test event** -> Paste URL dưới vào (là URL of an image file) -> **Save** -> **Test**\n",
    "   ```python\n",
    "   { \"url\": \"https://s3.amazonaws.com/cdn-origin-etr.akc.org/wp-content/uploads/2017/11/20113314/Carolina-Dog-standing-outdoors.jpg\" }\n",
    "   ```\n",
    "\n",
    "   Ta sẽ thấy có error vì role ko đc authorized để invoke an endpoint in SageMaker.\n",
    "\n",
    "3. Vào **IAM** -> **Roles** -> Vào role của Lambda function trên -> Attach policy `AmazonSageMakerFullAccess` \\\n",
    "   Test lại Lambda function"
   ],
   "id": "b944bfdf897543f1"
  },
  {
   "metadata": {},
   "cell_type": "markdown",
   "source": [
    "## Exercise 2: IAM\n",
    "1. Vào **VPC** -> **Your VPCs** -> **Create VPC**. Đặt **IPv4 CIDR block** là `10.0.0.0/16` -> **Create VPC**\n",
    "\n",
    "   <img src=\"images/aws1.png\" width=800>\n",
    "\n",
    "2. Vào **Subnets** -> **Create subnet** -> Chọn VPC ID vừa tạo -> Đặt **IPv4 subnet CIDR block** là `10.0.0.0/17` -> **Create subnet**\n",
    "\n",
    "   <img src=\"images/aws2.png\" width=1000>\n",
    "\n",
    "3. Vào **EC2** -> **Instances** -> **Launch instances**. Chọn **OS** là `Amazon Linux`, **Instance type** là `t2.micro`. \\\n",
    "   Trong **Key pair**, chọn **Proceed without a key pair**. \\\n",
    "   Trong **Network settings**, ấn **Edit** -> Chọn VPC và Subnet vừa tạo  \\\n",
    "   Trong **Inbound Security Group Rules** -> Chọn **Type** là `ssh`, **Source type* là `My IP` -> **Launch instance**\n",
    "\n",
    "   <img src=\"images/aws3.png\" width=800>\n",
    "   <br>\n",
    "   <img src=\"images/aws4.png\" width=800>"
   ],
   "id": "1d4934f8c05a6900"
  },
  {
   "metadata": {},
   "cell_type": "markdown",
   "source": [
    "## Exercise 3: Securing SageMaker\n",
    "1. Vào **SageMaker** -> **Notebook** -> **Notebook instance** -> Mở notebook ở Ex1.\n",
    "2. Trong **Monitor**, ấn **View logs** (sẽ đc chuyển tới CloudWatch) -> Vào xem log -> Kiểm tra các messages \"Saving file at ...\", đảm bảo các activities đã đc authorized đúng.\n",
    "3. Vào **Metrics** -> **All metrics**. Trong **AWS namespaces**, chọn **Lambda** -> **By Resource** \\\n",
    "    Tick các metrics ở các Lambda functions cần xem -> Kiểm tra, VD Invocations cao nghĩa là endpoint đang đc mở cho public hoặc có intruders.\n",
    "\n",
    "   <img src=\"images/aws5.png\" width=1500>\n",
    "   <br>\n",
    "   <img src=\"images/aws6.png\" width=1500>\n",
    "\n"
   ],
   "id": "e7de3ada94d77d22"
  }
 ],
 "metadata": {
  "kernelspec": {
   "display_name": "Python 3",
   "language": "python",
   "name": "python3"
  },
  "language_info": {
   "codemirror_mode": {
    "name": "ipython",
    "version": 2
   },
   "file_extension": ".py",
   "mimetype": "text/x-python",
   "name": "python",
   "nbconvert_exporter": "python",
   "pygments_lexer": "ipython2",
   "version": "2.7.6"
  }
 },
 "nbformat": 4,
 "nbformat_minor": 5
}
