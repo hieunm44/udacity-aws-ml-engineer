{
 "cells": [
  {
   "cell_type": "markdown",
   "metadata": {},
   "source": [
    "# Starbucks Capstone Project\n",
    "## Model Training"
   ]
  },
  {
   "cell_type": "code",
   "execution_count": 1,
   "metadata": {},
   "outputs": [],
   "source": [
    "import numpy as np\n",
    "import matplotlib.pyplot as plt\n",
    "import pandas as pd\n",
    "import sklearn.metrics as metrics\n",
    "import torch\n",
    "import torch.nn as nn\n",
    "import torch.optim as optim"
   ]
  },
  {
   "cell_type": "code",
   "execution_count": 2,
   "metadata": {},
   "outputs": [],
   "source": [
    "train_dataloader, valid_dataloader, test_dataloader = \\\n",
    "    torch.load('dataloaders.pt')"
   ]
  },
  {
   "cell_type": "code",
   "execution_count": 3,
   "metadata": {},
   "outputs": [],
   "source": [
    "def validate(model, criterion, dataloader=valid_dataloader):\n",
    "    with torch.no_grad():\n",
    "        model.eval()\n",
    "        valid_loss = 0\n",
    "        y_true = []\n",
    "        y_pred = []\n",
    "        for features, targets in dataloader:\n",
    "            prediction = model(features)\n",
    "            \n",
    "            prediction = prediction.view(-1,2)\n",
    "            targets = targets.view(-1)\n",
    "            valid_loss += criterion(prediction, targets)\n",
    "\n",
    "            prediction = torch.softmax(prediction, dim=1)\n",
    "            _, prediction = prediction.topk(1, dim=1)\n",
    "            prediction = prediction.squeeze()\n",
    "\n",
    "            y_pred.extend(prediction.view(-1))\n",
    "            y_true.extend(targets.view(-1))\n",
    "\n",
    "        # normalize the loss\n",
    "        valid_loss /= len(dataloader)\n",
    "        valid_loss = valid_loss.item()\n",
    "\n",
    "        # Calculate the metrics\n",
    "        accuracy = metrics.accuracy_score(y_true, y_pred)\n",
    "        c_matrix = metrics.confusion_matrix(y_true, y_pred)\n",
    "        precision = metrics.precision_score(y_true, y_pred)\n",
    "        recall = metrics.recall_score(y_true, y_pred)\n",
    "\n",
    "        model.train()\n",
    "\n",
    "        return valid_loss, accuracy, precision, \\\n",
    "               recall, c_matrix"
   ]
  },
  {
   "cell_type": "code",
   "execution_count": 8,
   "metadata": {},
   "outputs": [],
   "source": [
    "class FNN(nn.Module):\n",
    "    def __init__(self, input_size):\n",
    "        super(FNN, self).__init__()\n",
    "        self.input_size = input_size\n",
    "\n",
    "        self.net = nn.Sequential(\n",
    "            nn.Linear(input_size, 128),\n",
    "            nn.ReLU(),\n",
    "            nn.Linear(128, 128),\n",
    "            nn.ReLU(),\n",
    "            nn.Linear(128, 2),\n",
    "        )\n",
    "\n",
    "\n",
    "    def forward(self, x):\n",
    "        x = x.view(-1, self.input_size)\n",
    "        x = self.net(x)\n",
    "\n",
    "        return x\n",
    "\n",
    "\n",
    "class RNN(nn.Module):\n",
    "    def __init__(self, input_size, hidden_size=128, hidden_layers=2, output_size=2):\n",
    "        super(RNN, self).__init__()\n",
    "\n",
    "        self.input_size = input_size\n",
    "        self.hidden_size = hidden_size\n",
    "        self.output_size = output_size\n",
    "\n",
    "        ## Build the Recurrent Network\n",
    "        self.rnn = nn.GRU(input_size=input_size,\n",
    "                          hidden_size=hidden_size,\n",
    "                          num_layers=hidden_layers,\n",
    "                          batch_first=True)\n",
    "\n",
    "        self.hidden_tensor = torch.zeros(hidden_layers, 1, hidden_size) \\\n",
    "                             .uniform_(-3e-3, 3e-3)\n",
    "\n",
    "        self.fnn = nn.Sequential(\n",
    "            nn.Linear(128, 2),\n",
    "        )\n",
    "\n",
    "    def forward(self, x):\n",
    "        batch_size = x.shape[0]\n",
    "        seq_length = x.shape[1]\n",
    "\n",
    "        ## Feed the RNN\n",
    "        h = self.init_hidden(batch_size)\n",
    "        x, h = self.rnn(x, h)\n",
    "\n",
    "        ## Feed the Classifier\n",
    "        x = x.contiguous().view(-1, self.hidden_size)\n",
    "        x = self.fnn[-1](x)\n",
    "\n",
    "        ## Stack the results\n",
    "        x = x.view(batch_size, seq_length, self.output_size)\n",
    "\n",
    "        return x\n",
    "\n",
    "    def init_hidden(self, batch_size):\n",
    "        self.hidden_tensor.repeat(1, batch_size, 1)"
   ]
  },
  {
   "cell_type": "code",
   "execution_count": 15,
   "metadata": {
    "scrolled": false
   },
   "outputs": [],
   "source": [
    "def train(model, criterion, optimizer, model_name, dataloader=train_dataloader, epochs=100):\n",
    "    train_loss = []\n",
    "    valid_loss = []\n",
    "    min_valid_loss = np.inf\n",
    "    ## Perform N epochs of training\n",
    "    for epoch in range(1, epochs+1):\n",
    "        epoch_loss = 0\n",
    "        for batch, (features, targets) in enumerate(dataloader):\n",
    "            ## Train the network\n",
    "            optimizer.zero_grad()\n",
    "            prediction = model(features)\n",
    "            prediction = prediction.view(-1,2)\n",
    "            targets = targets.view(-1)\n",
    "            loss = criterion(prediction, targets)\n",
    "            loss.backward()\n",
    "            optimizer.step()\n",
    "            epoch_loss += loss.item()\n",
    "\n",
    "        # Normalize the training loss\n",
    "        epoch_loss /= len(dataloader)\n",
    "        train_loss.append(epoch_loss)\n",
    "        \n",
    "\n",
    "        # Validate\n",
    "        metrics = validate(model, criterion)\n",
    "        valid_loss.append(metrics[0])\n",
    "        print(f'Epoch {epoch} train loss: {train_loss[-1]}, valid loss: {valid_loss[-1]}, acc: {metrics[1]}')\n",
    "\n",
    "        # Save the model if valid_loss has decreased\n",
    "        if valid_loss[-1] < min_valid_loss:\n",
    "            min_valid_loss = valid_loss[-1]\n",
    "            torch.save(model.state_dict(), f'{model_name}.pt')\n",
    "\n",
    "    return train_loss, valid_loss"
   ]
  },
  {
   "cell_type": "markdown",
   "metadata": {},
   "source": [
    "## FNN"
   ]
  },
  {
   "cell_type": "code",
   "execution_count": 23,
   "metadata": {},
   "outputs": [],
   "source": [
    "FNN_classifier = FNN(input_size=16)\n",
    "criterion = nn.CrossEntropyLoss()\n",
    "optimizer = optim.Adam(FNN_classifier.parameters(), lr=0.001, weight_decay=0.001)"
   ]
  },
  {
   "cell_type": "code",
   "execution_count": 24,
   "metadata": {
    "scrolled": false
   },
   "outputs": [
    {
     "name": "stdout",
     "output_type": "stream",
     "text": [
      "Epoch 1 train loss: 0.25447211193678965, valid loss: 0.22391174733638763, acc: 0.8828092243186583\n",
      "Epoch 2 train loss: 0.23126464591703222, valid loss: 0.22305350005626678, acc: 0.8827044025157232\n",
      "Epoch 3 train loss: 0.23128704973800698, valid loss: 0.22335051000118256, acc: 0.8817610062893082\n",
      "Epoch 4 train loss: 0.2304170929531955, valid loss: 0.2233753800392151, acc: 0.8825995807127882\n",
      "Epoch 5 train loss: 0.23060728673210096, valid loss: 0.22279196977615356, acc: 0.8829140461215933\n",
      "Epoch 6 train loss: 0.2307764678893976, valid loss: 0.2251453995704651, acc: 0.8820754716981132\n",
      "Epoch 7 train loss: 0.23027487986501138, valid loss: 0.22578328847885132, acc: 0.8787211740041929\n",
      "Epoch 8 train loss: 0.23037814599784776, valid loss: 0.22313667833805084, acc: 0.8810272536687631\n",
      "Epoch 9 train loss: 0.2304212160820338, valid loss: 0.2230014055967331, acc: 0.8822851153039832\n",
      "Epoch 10 train loss: 0.23019732714597904, valid loss: 0.2239803820848465, acc: 0.8824947589098533\n",
      "Epoch 11 train loss: 0.230190749032114, valid loss: 0.22359982132911682, acc: 0.8820754716981132\n",
      "Epoch 12 train loss: 0.2301637317479855, valid loss: 0.2244897484779358, acc: 0.8828092243186583\n",
      "Epoch 13 train loss: 0.23023947597897831, valid loss: 0.22344931960105896, acc: 0.8814465408805031\n",
      "Epoch 14 train loss: 0.2303752579057037, valid loss: 0.22305454313755035, acc: 0.8825995807127882\n",
      "Epoch 15 train loss: 0.23002305578197066, valid loss: 0.22287437319755554, acc: 0.8829140461215933\n",
      "Epoch 16 train loss: 0.2305509762548322, valid loss: 0.22283267974853516, acc: 0.8825995807127882\n",
      "Epoch 17 train loss: 0.23016175960925356, valid loss: 0.2237396091222763, acc: 0.8822851153039832\n",
      "Epoch 18 train loss: 0.2299235772772051, valid loss: 0.22276447713375092, acc: 0.8828092243186583\n",
      "Epoch 19 train loss: 0.23001489975494355, valid loss: 0.2230025827884674, acc: 0.8824947589098533\n",
      "Epoch 20 train loss: 0.22997547049618247, valid loss: 0.22441378235816956, acc: 0.8827044025157232\n"
     ]
    }
   ],
   "source": [
    "FNN_loss = train(FNN_classifier,\n",
    "                    criterion = criterion,\n",
    "                    optimizer = optimizer,\n",
    "                    model_name='FNN',\n",
    "                    epochs=20)"
   ]
  },
  {
   "cell_type": "markdown",
   "metadata": {},
   "source": [
    "## RNN"
   ]
  },
  {
   "cell_type": "code",
   "execution_count": 25,
   "metadata": {},
   "outputs": [],
   "source": [
    "RNN_classifier = RNN(input_size=16, output_size=2, hidden_size=128, hidden_layers=2)\n",
    "criterion = nn.CrossEntropyLoss()\n",
    "optimizer = optim.Adam(RNN_classifier.parameters(), lr=0.001, weight_decay=0.001)"
   ]
  },
  {
   "cell_type": "code",
   "execution_count": 26,
   "metadata": {
    "scrolled": false
   },
   "outputs": [
    {
     "name": "stdout",
     "output_type": "stream",
     "text": [
      "Epoch 1 train loss: 0.2653205341579926, valid loss: 0.23105458915233612, acc: 0.8753668763102725\n",
      "Epoch 2 train loss: 0.23530998672522493, valid loss: 0.22714219987392426, acc: 0.8840670859538784\n",
      "Epoch 3 train loss: 0.23517175883653774, valid loss: 0.22848477959632874, acc: 0.8830188679245283\n",
      "Epoch 4 train loss: 0.23435473131324777, valid loss: 0.22661159932613373, acc: 0.880817610062893\n",
      "Epoch 5 train loss: 0.23318309089796027, valid loss: 0.22631755471229553, acc: 0.8821802935010482\n",
      "Epoch 6 train loss: 0.23333861311925716, valid loss: 0.2260482758283615, acc: 0.8819706498951781\n",
      "Epoch 7 train loss: 0.23253282406671563, valid loss: 0.22645923495292664, acc: 0.8816561844863732\n",
      "Epoch 8 train loss: 0.23223774928842958, valid loss: 0.22541265189647675, acc: 0.8829140461215933\n",
      "Epoch 9 train loss: 0.2316709273125059, valid loss: 0.22421443462371826, acc: 0.8824947589098533\n",
      "Epoch 10 train loss: 0.2314543248570744, valid loss: 0.22363555431365967, acc: 0.8809224318658281\n",
      "Epoch 11 train loss: 0.23108272097218577, valid loss: 0.22385373711585999, acc: 0.880083857442348\n",
      "Epoch 12 train loss: 0.23104678420115954, valid loss: 0.2235996276140213, acc: 0.8811320754716981\n",
      "Epoch 13 train loss: 0.2309086271865883, valid loss: 0.2241528332233429, acc: 0.8814465408805031\n",
      "Epoch 14 train loss: 0.23060923309332163, valid loss: 0.22331225872039795, acc: 0.8810272536687631\n",
      "Epoch 15 train loss: 0.2304103531355235, valid loss: 0.22387270629405975, acc: 0.880293501048218\n",
      "Epoch 16 train loss: 0.23032197726881085, valid loss: 0.22214408218860626, acc: 0.8825995807127882\n",
      "Epoch 17 train loss: 0.23035803800401974, valid loss: 0.22411856055259705, acc: 0.8832285115303983\n",
      "Epoch 18 train loss: 0.2302107339977619, valid loss: 0.22296464443206787, acc: 0.8822851153039832\n",
      "Epoch 19 train loss: 0.22998471468237777, valid loss: 0.22283998131752014, acc: 0.8820754716981132\n",
      "Epoch 20 train loss: 0.2295666289089912, valid loss: 0.22153308987617493, acc: 0.8828092243186583\n"
     ]
    }
   ],
   "source": [
    "RNN_loss = train(RNN_classifier,\n",
    "                    criterion = criterion,\n",
    "                    optimizer = optimizer,\n",
    "                    model_name='RNN',\n",
    "                    epochs=20)"
   ]
  },
  {
   "cell_type": "code",
   "execution_count": 38,
   "metadata": {},
   "outputs": [
    {
     "data": {
      "image/png": "[encoded data removed]",
      "text/plain": [
       "<Figure size 1500x400 with 2 Axes>"
      ]
     },
     "metadata": {},
     "output_type": "display_data"
    }
   ],
   "source": [
    "fig, (ax0, ax1) = plt.subplots(\n",
    "    figsize=(15,4), nrows=1, ncols=2, sharey=True)\n",
    "\n",
    "ax0.plot(FNN_loss[0], label='train')\n",
    "ax0.plot(FNN_loss[1], label='valid')\n",
    "ax0.set_title('FNN Classifier')\n",
    "ax0.set_ylabel('loss')\n",
    "ax0.set_xlabel('epoch')\n",
    "ax0.legend()\n",
    "\n",
    "ax1.plot(RNN_loss[0], label='train')\n",
    "ax1.plot(RNN_loss[1], label='valid')\n",
    "ax1.set_title('RNN Classifier')\n",
    "ax1.set_ylabel('loss')\n",
    "ax1.set_xlabel('epoch')\n",
    "ax1.legend()\n",
    "ax1.tick_params(reset=True)\n",
    "\n",
    "plt.savefig('figures/loss.png', bbox_inches='tight')\n",
    "plt.show()"
   ]
  },
  {
   "cell_type": "code",
   "execution_count": 28,
   "metadata": {},
   "outputs": [
    {
     "data": {
      "text/plain": [
       "<All keys matched successfully>"
      ]
     },
     "execution_count": 28,
     "metadata": {},
     "output_type": "execute_result"
    }
   ],
   "source": [
    "FNN_classifier.load_state_dict(torch.load('FNN.pt'))\n",
    "RNN_classifier.load_state_dict(torch.load('RNN.pt'))"
   ]
  },
  {
   "cell_type": "code",
   "execution_count": 30,
   "metadata": {},
   "outputs": [],
   "source": [
    "l_loss, l_acc, l_prec, l_rec, l_cmatrix = validate(FNN_classifier, criterion, test_dataloader)\n",
    "r_loss, r_acc, r_prec, r_rec, r_cmatrix = validate(RNN_classifier, criterion, test_dataloader)"
   ]
  },
  {
   "cell_type": "code",
   "execution_count": 35,
   "metadata": {},
   "outputs": [
    {
     "name": "stdout",
     "output_type": "stream",
     "text": [
      "FNN loss: 0.2298329770565033, FNN acc: 0.8774910845395427, FNN prec: 0.5996711878339499, FNN rec: 0.882637628554144\n",
      "FNN confusion matrix: \n",
      " [[6907  974]\n",
      " [ 194 1459]]\n"
     ]
    }
   ],
   "source": [
    "print(f'FNN loss: {l_loss}, FNN acc: {l_acc}, FNN prec: {l_prec}, FNN rec: {l_rec}')\n",
    "print(f'FNN confusion matrix: \\n {l_cmatrix}')"
   ]
  },
  {
   "cell_type": "code",
   "execution_count": 36,
   "metadata": {},
   "outputs": [
    {
     "name": "stdout",
     "output_type": "stream",
     "text": [
      "RNN loss: 0.22889035940170288, RNN acc: 0.8771764212292846, RNN prec: 0.6062610229276896, RNN rec: 0.8318209316394435\n",
      "RNN confusion matrix: \n",
      " [[6988  893]\n",
      " [ 278 1375]]\n"
     ]
    }
   ],
   "source": [
    "print(f'RNN loss: {r_loss}, RNN acc: {r_acc}, RNN prec: {r_prec}, RNN rec: {r_rec}')\n",
    "print(f'RNN confusion matrix: \\n {r_cmatrix}')"
   ]
  }
 ],
 "metadata": {
  "kernelspec": {
   "display_name": "Python 3",
   "language": "python",
   "name": "python3"
  },
  "language_info": {
   "codemirror_mode": {
    "name": "ipython",
    "version": 3
   },
   "file_extension": ".py",
   "mimetype": "text/x-python",
   "name": "python",
   "nbconvert_exporter": "python",
   "pygments_lexer": "ipython3",
   "version": "3.10.11"
  }
 },
 "nbformat": 4,
 "nbformat_minor": 4
}
