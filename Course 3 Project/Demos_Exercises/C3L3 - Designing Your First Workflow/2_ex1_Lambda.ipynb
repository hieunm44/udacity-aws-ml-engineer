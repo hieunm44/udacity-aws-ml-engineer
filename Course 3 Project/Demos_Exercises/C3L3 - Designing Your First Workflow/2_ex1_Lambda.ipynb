{
 "cells": [
  {
   "cell_type": "markdown",
   "id": "9213d171",
   "metadata": {},
   "source": "## Exercise 1: Lambda"
  },
  {
   "metadata": {},
   "cell_type": "markdown",
   "source": [
    "##  Exercise: Create a transformation job in Lambda\n",
    "In this exercise, you will create a lambda function to preprocess the review data we used in the previous exercises.\n",
    "\n",
    "First, navigate to lesson 3 in the course Github repo which contains a python script named `HelloBlazePreprocessLambda.py`.\n",
    "\n",
    "You will need to rename two constants at the top of the file: `BUCKET_NAME` and `PREFIX`. Rename `BUCKET_NAME` to a bucket in your account, and rename 'PREFIX' to the valid name of your choice. This is where the output of your lambda function will be directed to.\n",
    "\n",
    "### Steps:\n",
    "### 1. Setup Environment:\n",
    "1. Navigate to the course GitHub repository, lesson 3.\n",
    "2. Download `HelloBlazePreprocessLambda.py`.\n",
    "3. Update constants:\n",
    "    * `BUCKET_NAME`: Assign to an existing S3 bucket in your account.\n",
    "    * `PREFIX`: Choose a valid name for the output directory.\n",
    "\n",
    "### 2. Create IAM Role:\n",
    "1. Go to the AWS IAM console.\n",
    "2. Create a new role for Lambda with S3 read/write access.\n",
    "```\n",
    "{\n",
    "  \"Version\": \"2012-10-17\",\n",
    "  \"Statement\": [\n",
    "    {\n",
    "      \"Sid\": \"ListObjectsInBucket\",\n",
    "      \"Effect\": \"Allow\",\n",
    "      \"Action\": [\"s3:ListBucket\"],\n",
    "      \"Resource\": [\"arn:aws:s3:::your-bucket-name\"]\n",
    "    },\n",
    "    {\n",
    "      \"Sid\": \"AllObjectActions\",\n",
    "      \"Effect\": \"Allow\",\n",
    "      \"Action\": \"s3:*Object\",\n",
    "      \"Resource\": [\"arn:aws:s3:::your-bucket-name/*\"]\n",
    "    }\n",
    "  ]\n",
    "}\n",
    "```\n",
    "\n",
    "### 3. Create Lambda Function:\n",
    "1. Use AWS Lambda console.\n",
    "2. Create a function named \"PreprocessLambda\" with Python 3.8 (latest supported runtime)\n",
    "3. Upload `HelloBlazePreprocessLambda.py` after zipping it.\n",
    "\n",
    "### 4. Configure Lambda Function:\n",
    "1. In lambda_handler, invoke the preprocess method from HelloBlazePreprocessLambda.\n",
    "2. Process events with \"s3-dataset-uri\" key, format: `BUCKET/PREFIX/FILEOBJ`.\n",
    "3. Modify the response to indicate success, e.g., 'Preprocessing Successful!'\n",
    "4. Set the function timeout to 1 minute.\n",
    "\n",
    "### 5. Prepare Test Data:\n",
    "1. Upload the zipped file of musical instrument reviews to your S3 bucket.\n",
    "2. Create a test event in Lambda:\n",
    "```\n",
    "{\n",
    "  \"s3-dataset-uri\": \"your-bucket-name/your-prefix/reviews_Musical_Instruments_5.json.zip\"\n",
    "}\n",
    "```\n",
    "\n",
    "### 6. Test and Validate:\n",
    "1. Execute the test event in Lambda.\n",
    "2. Verify that the function runs successfully and outputs data to the specified S3 location.\n",
    "\n",
    "### 7. Outcome:\n",
    "* Upon successful execution, your Lambda function will preprocess the data and output results to S3, showcasing serverless computing efficiency.\n",
    "\n",
    "#### Tips:\n",
    "* Regularly review AWS documentation for any updates in services and best practices.\n",
    "* Consider integrating AWS CloudWatch for monitoring and logging Lambda function executions.\n",
    "* Explore AWS Step Functions for orchestrating more complex workflows involving Lambda."
   ],
   "id": "6ed8a483b7ad24e"
  },
  {
   "metadata": {},
   "cell_type": "code",
   "outputs": [
    {
     "data": {
      "text/plain": [
       "{'s3-dataset-uri': 'udacity-sagemaker-solutiondata2021/l3e1/reviews_Musical_Instruments_5.json.zip'}"
      ]
     },
     "execution_count": 1,
     "metadata": {},
     "output_type": "execute_result"
    }
   ],
   "execution_count": 1,
   "source": [
    "{\n",
    "  \"s3-dataset-uri\": \"udacity-sagemaker-solutiondata2021/l3e1/reviews_Musical_Instruments_5.json.zip\"\n",
    "}"
   ],
   "id": "9efff689"
  },
  {
   "metadata": {},
   "cell_type": "markdown",
   "source": "## Exercise Solution: Example Lambda Handler",
   "id": "600085e2"
  },
  {
   "metadata": {},
   "cell_type": "code",
   "outputs": [],
   "execution_count": 3,
   "source": [
    "from HelloBlazePreprocessLambda import preprocess\n",
    "\n",
    "def lambda_handler(event, context):\n",
    "    preprocess(event['s3-dataset-uri'])\n",
    "    return {\n",
    "        'statusCode': 200,\n",
    "        'body': \"Good to go!\"\n",
    "    }"
   ],
   "id": "010950e0"
  }
 ],
 "metadata": {
  "kernelspec": {
   "display_name": "Python 3 (ipykernel)",
   "language": "python",
   "name": "python3"
  },
  "language_info": {
   "codemirror_mode": {
    "name": "ipython",
    "version": 3
   },
   "file_extension": ".py",
   "mimetype": "text/x-python",
   "name": "python",
   "nbconvert_exporter": "python",
   "pygments_lexer": "ipython3",
   "version": "3.8.0"
  }
 },
 "nbformat": 4,
 "nbformat_minor": 5
}
