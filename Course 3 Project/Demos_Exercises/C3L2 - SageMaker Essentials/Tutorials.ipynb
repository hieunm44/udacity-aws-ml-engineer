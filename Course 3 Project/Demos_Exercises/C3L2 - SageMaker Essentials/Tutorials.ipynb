{
 "cells": [
  {
   "metadata": {},
   "cell_type": "markdown",
   "source": "# SageMaker Essentials",
   "id": "c14cde11874eb811"
  },
  {
   "metadata": {},
   "cell_type": "markdown",
   "source": [
    "## Overview\n",
    "1. Up các files `.csv` vào 1 S3 bucket\n",
    "2. Tạo 1 SageMaker Training job, dùng XGBoost -> Tạo model -> Tạo endpoint\n",
    "3. Tạo Batch transform job từ model đã tạo\n",
    "4. Tạo Processing job"
   ],
   "id": "f9d676d7aa7c15b9"
  },
  {
   "metadata": {},
   "cell_type": "markdown",
   "source": "## 1. Training Jobs",
   "id": "22886efcf881401"
  },
  {
   "metadata": {},
   "cell_type": "markdown",
   "source": [
    "1. Vào https://github.com/udacity/udacity-nd009t-C2-Developing-ML-Workflow/tree/master/lesson2/demo_boston_data \\\n",
    "   Tải các files về và up vào một S3 bucket.\n",
    "2. Vào **SageMaker** -> **Training** -> **Training jobs** -> **Create training jobs**. Tạo một IAM role, tất cả để mặc định.\n",
    "\n",
    "    <img src=\"images/aws1.png\" width=1500>\n",
    "\n",
    "3. Trong **Choose an algorithm**, chọn `XGBoost`. Chọn Instance type là `ml.m5.large`, Additional storage là 5GB. Trong Hyperparameters, đặt `num_round` là 20, còn lại để nguyên.\n",
    "\n",
    "    <img src=\"images/aws2.png\" width=600>\n",
    "\n",
    "4. Trong **Input data configuration**, điền train và validation file.\n",
    "\n",
    "    <img src=\"images/aws3.png\" width=600>\n",
    "\n",
    "5. Trong **Output data configuration**, điền S3 output path -> **Create training job**\n",
    "\n",
    "    <img src=\"images/aws4.png\" width=600>\n",
    "\n",
    "    Vào **S3 bucket** để kiểm tra.\n",
    "\n",
    "6. Để tạo Traing job bằng code, vào **Applications and IDEs** → **Notebooks** → **Create notebook instance** \\\n",
    "   Chọn instance type là `ml.t2.medium`. Chạy file `1_demo1_Training_Job.ipynb`."
   ],
   "id": "f6165dab95428eb8"
  },
  {
   "metadata": {},
   "cell_type": "markdown",
   "source": [
    "## 2. Endpoint\n",
    "1. Vào một training job, ấn vào **Create model** và tạo model. Kiểm tra trong **Inference** -> **Models**\n",
    "\n",
    "    <img src=\"images/aws5.png\" width=1500>\n",
    "\n",
    "2. Vào **Inference** -> **Endpoints** -> **Create endpoint** -> **Create new a endpoint configuration** \\\n",
    "   Trong **Production**, chọn **Create production variant** -> Chọn một model -> **Create endpoint configuration** -> **Create endpoint**.\n",
    "\n",
    "    <img src=\"images/aws6.png\" width=600>\n",
    "\n",
    "3. Tạo Endpoint bằng code: Xem file `2_demo2_Endpoint.ipynb`."
   ],
   "id": "c39f76d0f39a707b"
  },
  {
   "metadata": {},
   "cell_type": "markdown",
   "source": [
    "## 3. Batch Transform\n",
    "1. Vào **Inference** -> **Batch transform jobs** -> **Create batch transform job**. Thiết lập như dưới.\n",
    "\n",
    "    <img src=\"images/aws7.png\" width=600>\n",
    "\n",
    "2. Phải chọn **Assemble** with là `Line`, nếu ko sẽ có nhiều file đc tạo ra cho từng line trong csv. \\\n",
    "Chọn **Create job**. Kiểm tra output file trong S3.\n",
    "3. Tạo Batch Transform bằng code: `5_demo3_Batch_Transform.ipynb`"
   ],
   "id": "df2f08b79645b84d"
  },
  {
   "metadata": {},
   "cell_type": "markdown",
   "source": [
    "## 4. Processing Jobs\n",
    "1. Vào **Processing** -> **Processing jobs** -> **Create processing job**. Thiết lập như sau:\n",
    "    - Container: `683313688378.dkr.ecr.us-east-1.amazonaws.com/sagemaker-scikit-learn:0.20.0-cpu-py3` \\\n",
    "      Lấy từ code\n",
    "        ```python\n",
    "        from sagemaker import image_uris\n",
    "\n",
    "        image_uri = image_uris.retrieve(framework='sklearn',region='us-east-1', version='0.20.0')\n",
    "        ```\n",
    "\n",
    "    - Entrypoint 1: `python3` \\\n",
    "      Entrypoint 2: `opt/ml/processing/input/code/xgboost_process_script.py`\n",
    "\n",
    "    - Trong Input data \\\n",
    "      Local path: `/opt/ml/processing/input/data` \\\n",
    "      S3 location: `s3://hieubucket97/train.csv`\n",
    "\n",
    "   - Trong Output data \\\n",
    "     Local path: `/opt/ml/processing/output` \\\n",
    "     S3 location: `s3://hieubucket97/boston-xgboost-HL/train-csv-console-processing-output`\n",
    "\n",
    "    <img src=\"images/aws8.png\" width=600>\n",
    "\n",
    "    Ấn **Submit**.\n",
    "\n",
    "2. Tạo Processing Jobs bằng code: Xem file `7_demo4_Processing_Job.ipynb`."
   ],
   "id": "2a899ecfb5de0a4"
  }
 ],
 "metadata": {
  "kernelspec": {
   "display_name": "Python 3",
   "language": "python",
   "name": "python3"
  },
  "language_info": {
   "codemirror_mode": {
    "name": "ipython",
    "version": 2
   },
   "file_extension": ".py",
   "mimetype": "text/x-python",
   "name": "python",
   "nbconvert_exporter": "python",
   "pygments_lexer": "ipython2",
   "version": "2.7.6"
  }
 },
 "nbformat": 4,
 "nbformat_minor": 5
}
