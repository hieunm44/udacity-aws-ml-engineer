{
 "cells": [
  {
   "metadata": {},
   "cell_type": "markdown",
   "source": "# AWS SageMaker Studio",
   "id": "290b36d755d2a8fc"
  },
  {
   "metadata": {},
   "cell_type": "markdown",
   "source": [
    "## 1. SageMaker Studio\n",
    "1. Vào **Amazon SageMaker -> Studio** -> Tạo **SageMaker domain** -> Chọn **Open Studio**.\n",
    "2. Vào **JupyterLab** → **Create JupyterLab space** → **Run space** → **Open JupyterLab**.\n",
    "\n",
    "    <img src=\"images/aws1.png\" width=1500>\n",
    "\n",
    "3. Vào **Git** -> **Clone a Repository**\n",
    "   https://github.com/udacity/nd189-1-Introduction-to-Machine-Learning"
   ],
   "id": "2086e9152ad034c9"
  },
  {
   "metadata": {},
   "cell_type": "markdown",
   "source": [
    "## 2. Data Wrangler\n",
    "1. Trong **JupyterLab, vào Data → Data Wrangler → Run in Canvas → Open in Canvas**\n",
    "\n",
    "    <img src=\"images/aws2.png\" width=1500>\n",
    "\n",
    "2. Vào **Import and prepare** → **Tabular**. Chọn Data Source là `S3` → Import file `yum-yum-ice-cream.csv`.\n",
    "\n",
    "    <img src=\"images/aws3.png\" width=1500>\n",
    "\n",
    "3. Ấn vào **Data types** → **Add transform** → **Featurize date**\n",
    "\n",
    "    <img src=\"images/aws4.png\" width=1500>\n",
    "\n",
    "    <img src=\"images/aws5.png\" width=1500>\n",
    "\n",
    "    Ấn vào **Add**.\n",
    "\n",
    "    <img src=\"images/aws6.png\" width=1500>\n",
    "\n",
    "4. Vào **Analyses**, thêm hai Analysis types là `Table Summary` và `Histogram`.\n",
    "\n",
    "    <img src=\"images/aws7.png\" width=1500>\n",
    "\n",
    "5. Ấn vào dấu **+** -> **Export** -> **Export data to Amazon S3**.\n",
    "\n",
    "    <img src=\"images/aws8.png\" width=1500>\n",
    "\n",
    "    <img src=\"images/aws9.png\" width=1500>\n",
    "\n",
    "    Vào **S3** để kiểm tra."
   ],
   "id": "f4df47f878b447c7"
  },
  {
   "metadata": {},
   "cell_type": "markdown",
   "source": [
    "## 3. Ground Truth\n",
    "1. Trong SageMaker, vào **Ground Truth** -> **Labeling jobs** -> **Create labeling job**\n",
    "\n",
    "    <img src=\"images/aws10.png\" width=700> \\\n",
    "\n",
    "    <img src=\"images/aws11.png\" width=500>\n",
    "\n",
    "    Kiểm tra trong **Labeling jobs**.\n",
    "\n",
    "2. Vào **Labeling workforces** -> Ấn vào team đã tạo -> **Workers** -> **Add workers to team**.\n",
    "Ra ngoài và invite workers."
   ],
   "id": "8675e895f577e214"
  }
 ],
 "metadata": {
  "kernelspec": {
   "display_name": "Python 3",
   "language": "python",
   "name": "python3"
  },
  "language_info": {
   "codemirror_mode": {
    "name": "ipython",
    "version": 2
   },
   "file_extension": ".py",
   "mimetype": "text/x-python",
   "name": "python",
   "nbconvert_exporter": "python",
   "pygments_lexer": "ipython2",
   "version": "2.7.6"
  }
 },
 "nbformat": 4,
 "nbformat_minor": 5
}
